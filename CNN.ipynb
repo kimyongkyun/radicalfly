{
 "cells": [
  {
   "cell_type": "code",
   "execution_count": null,
   "metadata": {},
   "outputs": [],
   "source": [
    "import numpy as np\n",
    "import pandas as pd\n",
    "import tensorflow as tf\n",
    "import keras\n",
    "import matplotlib.pyplot as plt\n",
    "import glob\n",
    "\n",
    "# 모델을 구현하기 위해서 필요한 라이브러리를 추가한 것입니다."
   ]
  },
  {
   "cell_type": "code",
   "execution_count": null,
   "metadata": {},
   "outputs": [],
   "source": [
    "import imageio  
    "                # 이미지파일을 읽기 위한 라이브러리입니다."
   ]
  },
  {
   "cell_type": "code",
   "execution_count": null,
   "metadata": {},
   "outputs": [],
   "source": [
    "#이미지 샘플을 하나 확인해보기\n",
    "im = imageio.imread('./data/train/1__20160731_174508_0e30__-118.409848968_33.9447746942.png') #샘플로 data폴더의 1_1.png 파일을 read\n",
    "plt.imshow(im) # 이미지 출력해보기\n",
    "print(\"세로, 가로, 칼라여부 : \",im.shape) # 이미지 세로 20 가로 20 픽셀이며 마지막이 3인 이유는 RGB 세개의 이미지가 합쳐진 칼라이미지를 뜻함"
   ]
  },
  {
   "cell_type": "code",
   "execution_count": null,
   "metadata": {},
   "outputs": [],
   "source": [
    "# 이미지 모두 처리 \n",
    "x_train = [] # 학습 이미지 담을 변수\n",
    "y_train = [] # 학습 이미지에 해당하는 라벨\n",
    "x_test = [] # 테스트 이미지 담을 변수\n",
    "y_test = [] # 테스트 이미지에 해당하는 라벨\n",
    "\n",
    "\n",
    "train_path_0 = glob.glob('./data/train/0_*.png')   # 학습데이터 중 자동차사진이 아닌 파일들\n",
    "train_path_1 = glob.glob('./data/train/1_*.png')   # 학습데이터 중 자동차사진인 파일들\n",
    "\n",
    "test_path_0 = glob.glob('./data/test/0_*.png')     # 테스트 데이터 중 자동차사진이 아닌 파일들\n",
    "test_path_1 = glob.glob('./data/test/1_*.png')     # 테스트 데이터 중 자동차사진의 파일들\n",
    "\n",
    "# 학습데이터 가공하기\n",
    "for i in range(len(train_path_0)):\n",
    "    temp_img = imageio.imread('{}'.format(train_path_0[i])) # 자동차가 아닌 학습데이터를 하나씩 불러오기\n",
    "    x_train.append(temp_img)                                # 학습데이터에 담기\n",
    "    y_train.append(0)                                       # 자동차가 아니면 0 이라고 라벨달기\n",
    "               \n",
    "    temp_img2 = imageio.imread('{}'.format(train_path_1[i]))# 자동차 사진인 학습데이터를 하나씩 불러오기\n",
    "    x_train.append(temp_img2)                               # 학습데이터에 담기\n",
    "    y_train.append(1)                                       # 자동차면 1 이라고 라벨달기\n",
    "\n",
    "# 테스트데이터 가공하기\n",
    "for j in range(len(test_path_0)):\n",
    "    test_temp_img = imageio.imread('{}'.format(test_path_0[j]))  # 자동차가 아닌 테스트데이터를 하나씩 불러오기\n",
    "    x_test.append(test_temp_img)                                 # 테스트데이터에 담기\n",
    "    y_test.append(0)                                             # 자동차가 아니면 0 이라고 라벨달기\n",
    "               \n",
    "    test_temp_img2 = imageio.imread('{}'.format(test_path_1[j])) # 자동차사진인 테스트데이터를 하나씩 불러오기\n",
    "    x_test.append(test_temp_img2)                                # 테스트데이터에 담기\n",
    "    y_test.append(1)                                             # 자동차면 1 이라고 라벨달기\n",
    "                       "
   ]
  },
  {
   "cell_type": "code",
   "execution_count": null,
   "metadata": {},
   "outputs": [],
   "source": [
    "# 가공한 데이터 배열로 변경\n",
    "x_train = np.array(x_train)\n",
    "y_train = np.array(y_train).reshape(-1,1)\n",
    "x_test = np.array(x_test)\n",
    "y_test = np.array(y_test).reshape(-1,1)"
   ]
  },
  {
   "cell_type": "code",
   "execution_count": null,
   "metadata": {},
   "outputs": [],
   "source": [
    "# 라벨 데이터 one-hot 으로 변경 \n",
    "# 0 --> (1,0)   1 --> (0,1) 으로 바꿔주는 작업\n",
    "from sklearn.preprocessing import OneHotEncoder\n",
    "enc = OneHotEncoder()\n",
    "enc.fit(y_train)\n",
    "y_train = enc.transform(y_train).toarray()\n",
    "\n",
    "real_label=y_test # real_label에 one-hot 전 라벨을 담아 놓습니다. 나중에 예측값과 비교해보기 위해서\n",
    "enc.fit(y_test)\n",
    "y_test = enc.transform(y_test).toarray()\n",
    "\n",
   
   ]
  },
  {
   "cell_type": "code",
   "execution_count": null,
   "metadata": {},
   "outputs": [],
   "source": [
    "# 데이터 처리 후 최정형태 확인하기\n",
    "print(\"학습 이미지 파일 형태 : \", x_train.shape)   # 5000장 * 20(세로) * 20(가로) * 3(칼라)\n",
    "print(\"학습 라벨 형태 : \", y_train.shape)         # 5000장 * 2(one-hot)\n",
    "print(\"테스트 이미지 파일 형태 : \", x_test.shape)   # 1000장 * 20(세로) * 20(가로) * 3(칼라)\n",
    "print(\"테스트 라벨 형태 : \", y_test.shape)         # 1000장 * 2(one-hot)\n",
    "\n",
    "# 여기 까지가 데이터 전처리 완료"
   ]
  },
  {
   "cell_type": "code",
   "execution_count": null,
   "metadata": {},
   "outputs": [],
   "source": [
    "# CNN (Convolutional Neural Net) 모델 구현하기\n",
    "from keras.models import Sequential\n",
    "from keras.layers import Dense, Dropout, Flatten, BatchNormalization\n",
    "from keras.layers import Conv2D, MaxPooling2D\n",
    "\n",
    "tf.set_random_seed(1)\n",
    "\n",
    "model = Sequential()\n",
    "model.add(Conv2D(16, kernel_size=(3, 3),activation='relu', input_shape=(20,20,3))) \n",
    "# 16개 filter 사용, 3*3 크기 필터, 활성화 함수는 relu 사용, input 형태는 112,92,1 (세로,가로,흑백)\n",
    "model.add(BatchNormalization())\n",
    "# 과적합 방지 배치 노멀 처리\n",
    "\n",
    "model.add(Conv2D(32, (3, 3), activation='relu'))\n",
    "# 32개 filter 사용, 3*3 크기 필터, 활성화 함수는 relu\n",
    "model.add(BatchNormalization())\n",
    "# 과적합 방지 배치 노멀 처리\n",
    "\n",
    "model.add(MaxPooling2D(pool_size=(2, 2), padding='same'))\n",
    "# 맥스풀링 사용, 크기는 2*2, padding 처리\n",
    "\n",
    "model.add(Conv2D(64, (3, 3), activation='relu'))\n",
    "# 64개 filter 사용, 3*3 크기 필터, 활설화 함수는 relu\n",
    "model.add(BatchNormalization())\n",
    "# 과적합 방지 배치 노멀 처리\n",
    "\n",
    "model.add(MaxPooling2D(pool_size=(2, 2), padding='same'))\n",
    "# 맥스 풀링 사용, 크기는 2*2, padding 처리\n",
    "\n",
    "model.add(Flatten())\n",
    "# 추출되는 특징값을 펼치기\n",
    "\n",
    "model.add(Dense(288, activation='relu', kernel_initializer='he_normal'))\n",
    "# 분류를 위한 DENSE레이어와 연결, 사용한 뉴런은 288개, 활성화 함수는 relu\n",
    "model.add(BatchNormalization())\n",
    "# 과적합 방지 배치노멀 처리\n",
    "\n",
    "model.add(Dense(2, activation='softmax'))\n",
    "# 총 2개 분류하기 위해 출력층은 2 (자동차 / 자동차 아님) 으로 분류\n",
    "\n",
    "model.compile(loss=keras.losses.categorical_crossentropy,optimizer=keras.optimizers.adam(),metrics=['accuracy'])\n",
    "# 학습 방법은 adam 을 사용\n"
   ]
  },
  {
   "cell_type": "code",
   "execution_count": null,
   "metadata": {},
   "outputs": [],
   "source": [
    "model.summary() # 구현한 모델 형태 확인해보기, 본 모델은 GPU를 사용하지 않고 돌린다고 가정하여\n",
    "                
   ]
  },
  {
   "cell_type": "code",
   "execution_count": null,
   "metadata": {},
   "outputs": [],
   "source": [
    "# 모델 학습시키기\n",
    "model.fit(x_train, y_train,\n",
    "          batch_size=128, # 배치사이즈 128, 128개 단위로 갱신\n",
    "          epochs=25,    # 25번의 학습을 의미함. 마음대로 변경 해서 사용 가능\n",
    "          verbose=1,    # 학습 화면 가시화\n",
    "          shuffle=True, # 데이터 섞어서 학습\n",
    "          validation_data=(x_test, y_test))  # validation set은 test set과 동일하게 설정\n",
    "\n",
    "\n",
    "# 최적화된 모델은 아니지만 최대 96.20%의 성능은 보여줍니다. GPU를 사용하지 못함을 고려하여 가장 간단하게 구현한 형태입니다. \n",
    "# 초기에 랜덤값을 받기 때문에 할때마다 결과가 조금씩 다르게 나옵니다.
   ]
  },
  {
   "cell_type": "code",
   "execution_count": null,
   "metadata": {},
   "outputs": [],
   "source": [
    "# TEST 데이터로 결과 확인해보기\n",
    "score = model.evaluate(x_test, y_test, verbose=0)\n",
    "print('Test accuracy:', score[1]) # TEST 데이터에 대한 정확도"
   ]
  },
  {
   "cell_type": "code",
   "execution_count": null,
   "metadata": {},
   "outputs": [],
   "source": [
    "# 모델이 예측한 라벨과 실제 라벨 비교해 보기\n",
    "# 라벨의 의미 0 =  아님, 1 = 자동차 임 \n",
    "real_label = real_label.reshape(-1)\n",
    "print(\"실제 라벨 : \",real_label)\n",
    "pred = model.predict_classes(x_test)\n",
    "print(\"예측 라벨 : \",pred) "
   ]
  },
  {
   "cell_type": "code",
   "execution_count": null,
   "metadata": {
    "scrolled": false
   },
   "outputs": [],
   "source": [
    "# 실제와 예측이 틀린 index \n",
    "index=[]\n",
    "error=[]\n",
    "real =[]\n",
    "for i in range(1000):    # 테스트 데이터 1000개에 대해서 잘못 맞춘 인덱스 확인\n",
    "    if real_label[i]!=pred[i]:\n",
    "        index.append(i)\n",
    "        error.append(pred[i])\n",
    "        real.append(real_label[i])\n",
    "        \n",
    "# 틀리게 예측한 이미지 보기\n",
    "test_image = x_test.reshape(1000,20,20,3)        \n",
    "for j in range(len(index)):\n",
    "    temp = index[j]\n",
    "    if error[j]==1:\n",
    "        plt.figure(figsize=(2,2))\n",
    "        plt.title('predict : car')     # 자동차라고 잘못 예측\n",
    "        plt.imshow(test_image[temp])\n",
    "    else : \n",
    "        plt.figure(figsize=(2,2))\n",
    "        plt.title('predict : not car') # 자동차가 아니라고 잘못 예측   \n",
    "        plt.imshow(test_image[temp])        "
   ]
  },
  {
   "cell_type": "code",
   "execution_count": null,
   "metadata": {},
   "outputs": [],
   "source": []
  }
 ],
 "metadata": {
  "kernelspec": {
   "display_name": "Python 3",
   "language": "python",
   "name": "python3"
  },
  "language_info": {
   "codemirror_mode": {
    "name": "ipython",
    "version": 3
   },
   "file_extension": ".py",
   "mimetype": "text/x-python",
   "name": "python",
   "nbconvert_exporter": "python",
   "pygments_lexer": "ipython3",
   "version": "3.7.3"
  }
 },
 "nbformat": 4,
 "nbformat_minor": 2
}
